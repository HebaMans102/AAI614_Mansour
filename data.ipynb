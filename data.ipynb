import numpy as np
data = [10, 20, 30, 40, 50]
mean_value = np.mean(data)
print(f"The mean of the data is {mean_value}")
